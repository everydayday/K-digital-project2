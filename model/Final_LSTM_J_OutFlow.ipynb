{
 "cells": [
  {
   "cell_type": "code",
   "execution_count": 1,
   "metadata": {},
   "outputs": [],
   "source": [
    "import pandas as pd\n",
    "import numpy as np\n",
    "import torch\n",
    "import torch.nn as nn\n",
    "from sklearn.preprocessing import MinMaxScaler # StandardScaler\n",
    "from torch.utils.data import DataLoader, TensorDataset\n",
    "import torch.optim as optim\n",
    "\n",
    "from sklearn.metrics import mean_squared_error\n",
    "\n",
    "import matplotlib.pyplot as plt\n",
    "\n",
    "import joblib\n",
    "\n",
    "np.random.seed(726)\n",
    "torch.manual_seed(726)\n",
    "torch.cuda.manual_seed(726)\n",
    "torch.cuda.manual_seed_all(726)\n",
    "torch.backends.cudnn.deterministic = True\n",
    "torch.backends.cudnn.benchmark = False"
   ]
  },
  {
   "cell_type": "code",
   "execution_count": 3,
   "metadata": {},
   "outputs": [],
   "source": [
    "pd.set_option('display.float_format', '{:.3f}'.format)"
   ]
  },
  {
   "cell_type": "code",
   "execution_count": 4,
   "metadata": {},
   "outputs": [
    {
     "ename": "FileNotFoundError",
     "evalue": "[Errno 2] No such file or directory: 'data/J(배).csv'",
     "output_type": "error",
     "traceback": [
      "\u001b[1;31m---------------------------------------------------------------------------\u001b[0m",
      "\u001b[1;31mFileNotFoundError\u001b[0m                         Traceback (most recent call last)",
      "Cell \u001b[1;32mIn[4], line 1\u001b[0m\n\u001b[1;32m----> 1\u001b[0m j \u001b[38;5;241m=\u001b[39m \u001b[43mpd\u001b[49m\u001b[38;5;241;43m.\u001b[39;49m\u001b[43mread_csv\u001b[49m\u001b[43m(\u001b[49m\u001b[38;5;124;43m'\u001b[39;49m\u001b[38;5;124;43mdata/J(배).csv\u001b[39;49m\u001b[38;5;124;43m'\u001b[39;49m\u001b[43m,\u001b[49m\u001b[43m \u001b[49m\u001b[43mheader\u001b[49m\u001b[38;5;241;43m=\u001b[39;49m\u001b[38;5;241;43m0\u001b[39;49m\u001b[43m)\u001b[49m\n\u001b[0;32m      2\u001b[0m j\u001b[38;5;241m.\u001b[39mhead()\n",
      "File \u001b[1;32mc:\\Users\\user\\anaconda\\envs\\py3_11\\Lib\\site-packages\\pandas\\io\\parsers\\readers.py:1026\u001b[0m, in \u001b[0;36mread_csv\u001b[1;34m(filepath_or_buffer, sep, delimiter, header, names, index_col, usecols, dtype, engine, converters, true_values, false_values, skipinitialspace, skiprows, skipfooter, nrows, na_values, keep_default_na, na_filter, verbose, skip_blank_lines, parse_dates, infer_datetime_format, keep_date_col, date_parser, date_format, dayfirst, cache_dates, iterator, chunksize, compression, thousands, decimal, lineterminator, quotechar, quoting, doublequote, escapechar, comment, encoding, encoding_errors, dialect, on_bad_lines, delim_whitespace, low_memory, memory_map, float_precision, storage_options, dtype_backend)\u001b[0m\n\u001b[0;32m   1013\u001b[0m kwds_defaults \u001b[38;5;241m=\u001b[39m _refine_defaults_read(\n\u001b[0;32m   1014\u001b[0m     dialect,\n\u001b[0;32m   1015\u001b[0m     delimiter,\n\u001b[1;32m   (...)\u001b[0m\n\u001b[0;32m   1022\u001b[0m     dtype_backend\u001b[38;5;241m=\u001b[39mdtype_backend,\n\u001b[0;32m   1023\u001b[0m )\n\u001b[0;32m   1024\u001b[0m kwds\u001b[38;5;241m.\u001b[39mupdate(kwds_defaults)\n\u001b[1;32m-> 1026\u001b[0m \u001b[38;5;28;01mreturn\u001b[39;00m \u001b[43m_read\u001b[49m\u001b[43m(\u001b[49m\u001b[43mfilepath_or_buffer\u001b[49m\u001b[43m,\u001b[49m\u001b[43m \u001b[49m\u001b[43mkwds\u001b[49m\u001b[43m)\u001b[49m\n",
      "File \u001b[1;32mc:\\Users\\user\\anaconda\\envs\\py3_11\\Lib\\site-packages\\pandas\\io\\parsers\\readers.py:620\u001b[0m, in \u001b[0;36m_read\u001b[1;34m(filepath_or_buffer, kwds)\u001b[0m\n\u001b[0;32m    617\u001b[0m _validate_names(kwds\u001b[38;5;241m.\u001b[39mget(\u001b[38;5;124m\"\u001b[39m\u001b[38;5;124mnames\u001b[39m\u001b[38;5;124m\"\u001b[39m, \u001b[38;5;28;01mNone\u001b[39;00m))\n\u001b[0;32m    619\u001b[0m \u001b[38;5;66;03m# Create the parser.\u001b[39;00m\n\u001b[1;32m--> 620\u001b[0m parser \u001b[38;5;241m=\u001b[39m \u001b[43mTextFileReader\u001b[49m\u001b[43m(\u001b[49m\u001b[43mfilepath_or_buffer\u001b[49m\u001b[43m,\u001b[49m\u001b[43m \u001b[49m\u001b[38;5;241;43m*\u001b[39;49m\u001b[38;5;241;43m*\u001b[39;49m\u001b[43mkwds\u001b[49m\u001b[43m)\u001b[49m\n\u001b[0;32m    622\u001b[0m \u001b[38;5;28;01mif\u001b[39;00m chunksize \u001b[38;5;129;01mor\u001b[39;00m iterator:\n\u001b[0;32m    623\u001b[0m     \u001b[38;5;28;01mreturn\u001b[39;00m parser\n",
      "File \u001b[1;32mc:\\Users\\user\\anaconda\\envs\\py3_11\\Lib\\site-packages\\pandas\\io\\parsers\\readers.py:1620\u001b[0m, in \u001b[0;36mTextFileReader.__init__\u001b[1;34m(self, f, engine, **kwds)\u001b[0m\n\u001b[0;32m   1617\u001b[0m     \u001b[38;5;28mself\u001b[39m\u001b[38;5;241m.\u001b[39moptions[\u001b[38;5;124m\"\u001b[39m\u001b[38;5;124mhas_index_names\u001b[39m\u001b[38;5;124m\"\u001b[39m] \u001b[38;5;241m=\u001b[39m kwds[\u001b[38;5;124m\"\u001b[39m\u001b[38;5;124mhas_index_names\u001b[39m\u001b[38;5;124m\"\u001b[39m]\n\u001b[0;32m   1619\u001b[0m \u001b[38;5;28mself\u001b[39m\u001b[38;5;241m.\u001b[39mhandles: IOHandles \u001b[38;5;241m|\u001b[39m \u001b[38;5;28;01mNone\u001b[39;00m \u001b[38;5;241m=\u001b[39m \u001b[38;5;28;01mNone\u001b[39;00m\n\u001b[1;32m-> 1620\u001b[0m \u001b[38;5;28mself\u001b[39m\u001b[38;5;241m.\u001b[39m_engine \u001b[38;5;241m=\u001b[39m \u001b[38;5;28;43mself\u001b[39;49m\u001b[38;5;241;43m.\u001b[39;49m\u001b[43m_make_engine\u001b[49m\u001b[43m(\u001b[49m\u001b[43mf\u001b[49m\u001b[43m,\u001b[49m\u001b[43m \u001b[49m\u001b[38;5;28;43mself\u001b[39;49m\u001b[38;5;241;43m.\u001b[39;49m\u001b[43mengine\u001b[49m\u001b[43m)\u001b[49m\n",
      "File \u001b[1;32mc:\\Users\\user\\anaconda\\envs\\py3_11\\Lib\\site-packages\\pandas\\io\\parsers\\readers.py:1880\u001b[0m, in \u001b[0;36mTextFileReader._make_engine\u001b[1;34m(self, f, engine)\u001b[0m\n\u001b[0;32m   1878\u001b[0m     \u001b[38;5;28;01mif\u001b[39;00m \u001b[38;5;124m\"\u001b[39m\u001b[38;5;124mb\u001b[39m\u001b[38;5;124m\"\u001b[39m \u001b[38;5;129;01mnot\u001b[39;00m \u001b[38;5;129;01min\u001b[39;00m mode:\n\u001b[0;32m   1879\u001b[0m         mode \u001b[38;5;241m+\u001b[39m\u001b[38;5;241m=\u001b[39m \u001b[38;5;124m\"\u001b[39m\u001b[38;5;124mb\u001b[39m\u001b[38;5;124m\"\u001b[39m\n\u001b[1;32m-> 1880\u001b[0m \u001b[38;5;28mself\u001b[39m\u001b[38;5;241m.\u001b[39mhandles \u001b[38;5;241m=\u001b[39m \u001b[43mget_handle\u001b[49m\u001b[43m(\u001b[49m\n\u001b[0;32m   1881\u001b[0m \u001b[43m    \u001b[49m\u001b[43mf\u001b[49m\u001b[43m,\u001b[49m\n\u001b[0;32m   1882\u001b[0m \u001b[43m    \u001b[49m\u001b[43mmode\u001b[49m\u001b[43m,\u001b[49m\n\u001b[0;32m   1883\u001b[0m \u001b[43m    \u001b[49m\u001b[43mencoding\u001b[49m\u001b[38;5;241;43m=\u001b[39;49m\u001b[38;5;28;43mself\u001b[39;49m\u001b[38;5;241;43m.\u001b[39;49m\u001b[43moptions\u001b[49m\u001b[38;5;241;43m.\u001b[39;49m\u001b[43mget\u001b[49m\u001b[43m(\u001b[49m\u001b[38;5;124;43m\"\u001b[39;49m\u001b[38;5;124;43mencoding\u001b[39;49m\u001b[38;5;124;43m\"\u001b[39;49m\u001b[43m,\u001b[49m\u001b[43m \u001b[49m\u001b[38;5;28;43;01mNone\u001b[39;49;00m\u001b[43m)\u001b[49m\u001b[43m,\u001b[49m\n\u001b[0;32m   1884\u001b[0m \u001b[43m    \u001b[49m\u001b[43mcompression\u001b[49m\u001b[38;5;241;43m=\u001b[39;49m\u001b[38;5;28;43mself\u001b[39;49m\u001b[38;5;241;43m.\u001b[39;49m\u001b[43moptions\u001b[49m\u001b[38;5;241;43m.\u001b[39;49m\u001b[43mget\u001b[49m\u001b[43m(\u001b[49m\u001b[38;5;124;43m\"\u001b[39;49m\u001b[38;5;124;43mcompression\u001b[39;49m\u001b[38;5;124;43m\"\u001b[39;49m\u001b[43m,\u001b[49m\u001b[43m \u001b[49m\u001b[38;5;28;43;01mNone\u001b[39;49;00m\u001b[43m)\u001b[49m\u001b[43m,\u001b[49m\n\u001b[0;32m   1885\u001b[0m \u001b[43m    \u001b[49m\u001b[43mmemory_map\u001b[49m\u001b[38;5;241;43m=\u001b[39;49m\u001b[38;5;28;43mself\u001b[39;49m\u001b[38;5;241;43m.\u001b[39;49m\u001b[43moptions\u001b[49m\u001b[38;5;241;43m.\u001b[39;49m\u001b[43mget\u001b[49m\u001b[43m(\u001b[49m\u001b[38;5;124;43m\"\u001b[39;49m\u001b[38;5;124;43mmemory_map\u001b[39;49m\u001b[38;5;124;43m\"\u001b[39;49m\u001b[43m,\u001b[49m\u001b[43m \u001b[49m\u001b[38;5;28;43;01mFalse\u001b[39;49;00m\u001b[43m)\u001b[49m\u001b[43m,\u001b[49m\n\u001b[0;32m   1886\u001b[0m \u001b[43m    \u001b[49m\u001b[43mis_text\u001b[49m\u001b[38;5;241;43m=\u001b[39;49m\u001b[43mis_text\u001b[49m\u001b[43m,\u001b[49m\n\u001b[0;32m   1887\u001b[0m \u001b[43m    \u001b[49m\u001b[43merrors\u001b[49m\u001b[38;5;241;43m=\u001b[39;49m\u001b[38;5;28;43mself\u001b[39;49m\u001b[38;5;241;43m.\u001b[39;49m\u001b[43moptions\u001b[49m\u001b[38;5;241;43m.\u001b[39;49m\u001b[43mget\u001b[49m\u001b[43m(\u001b[49m\u001b[38;5;124;43m\"\u001b[39;49m\u001b[38;5;124;43mencoding_errors\u001b[39;49m\u001b[38;5;124;43m\"\u001b[39;49m\u001b[43m,\u001b[49m\u001b[43m \u001b[49m\u001b[38;5;124;43m\"\u001b[39;49m\u001b[38;5;124;43mstrict\u001b[39;49m\u001b[38;5;124;43m\"\u001b[39;49m\u001b[43m)\u001b[49m\u001b[43m,\u001b[49m\n\u001b[0;32m   1888\u001b[0m \u001b[43m    \u001b[49m\u001b[43mstorage_options\u001b[49m\u001b[38;5;241;43m=\u001b[39;49m\u001b[38;5;28;43mself\u001b[39;49m\u001b[38;5;241;43m.\u001b[39;49m\u001b[43moptions\u001b[49m\u001b[38;5;241;43m.\u001b[39;49m\u001b[43mget\u001b[49m\u001b[43m(\u001b[49m\u001b[38;5;124;43m\"\u001b[39;49m\u001b[38;5;124;43mstorage_options\u001b[39;49m\u001b[38;5;124;43m\"\u001b[39;49m\u001b[43m,\u001b[49m\u001b[43m \u001b[49m\u001b[38;5;28;43;01mNone\u001b[39;49;00m\u001b[43m)\u001b[49m\u001b[43m,\u001b[49m\n\u001b[0;32m   1889\u001b[0m \u001b[43m\u001b[49m\u001b[43m)\u001b[49m\n\u001b[0;32m   1890\u001b[0m \u001b[38;5;28;01massert\u001b[39;00m \u001b[38;5;28mself\u001b[39m\u001b[38;5;241m.\u001b[39mhandles \u001b[38;5;129;01mis\u001b[39;00m \u001b[38;5;129;01mnot\u001b[39;00m \u001b[38;5;28;01mNone\u001b[39;00m\n\u001b[0;32m   1891\u001b[0m f \u001b[38;5;241m=\u001b[39m \u001b[38;5;28mself\u001b[39m\u001b[38;5;241m.\u001b[39mhandles\u001b[38;5;241m.\u001b[39mhandle\n",
      "File \u001b[1;32mc:\\Users\\user\\anaconda\\envs\\py3_11\\Lib\\site-packages\\pandas\\io\\common.py:873\u001b[0m, in \u001b[0;36mget_handle\u001b[1;34m(path_or_buf, mode, encoding, compression, memory_map, is_text, errors, storage_options)\u001b[0m\n\u001b[0;32m    868\u001b[0m \u001b[38;5;28;01melif\u001b[39;00m \u001b[38;5;28misinstance\u001b[39m(handle, \u001b[38;5;28mstr\u001b[39m):\n\u001b[0;32m    869\u001b[0m     \u001b[38;5;66;03m# Check whether the filename is to be opened in binary mode.\u001b[39;00m\n\u001b[0;32m    870\u001b[0m     \u001b[38;5;66;03m# Binary mode does not support 'encoding' and 'newline'.\u001b[39;00m\n\u001b[0;32m    871\u001b[0m     \u001b[38;5;28;01mif\u001b[39;00m ioargs\u001b[38;5;241m.\u001b[39mencoding \u001b[38;5;129;01mand\u001b[39;00m \u001b[38;5;124m\"\u001b[39m\u001b[38;5;124mb\u001b[39m\u001b[38;5;124m\"\u001b[39m \u001b[38;5;129;01mnot\u001b[39;00m \u001b[38;5;129;01min\u001b[39;00m ioargs\u001b[38;5;241m.\u001b[39mmode:\n\u001b[0;32m    872\u001b[0m         \u001b[38;5;66;03m# Encoding\u001b[39;00m\n\u001b[1;32m--> 873\u001b[0m         handle \u001b[38;5;241m=\u001b[39m \u001b[38;5;28;43mopen\u001b[39;49m\u001b[43m(\u001b[49m\n\u001b[0;32m    874\u001b[0m \u001b[43m            \u001b[49m\u001b[43mhandle\u001b[49m\u001b[43m,\u001b[49m\n\u001b[0;32m    875\u001b[0m \u001b[43m            \u001b[49m\u001b[43mioargs\u001b[49m\u001b[38;5;241;43m.\u001b[39;49m\u001b[43mmode\u001b[49m\u001b[43m,\u001b[49m\n\u001b[0;32m    876\u001b[0m \u001b[43m            \u001b[49m\u001b[43mencoding\u001b[49m\u001b[38;5;241;43m=\u001b[39;49m\u001b[43mioargs\u001b[49m\u001b[38;5;241;43m.\u001b[39;49m\u001b[43mencoding\u001b[49m\u001b[43m,\u001b[49m\n\u001b[0;32m    877\u001b[0m \u001b[43m            \u001b[49m\u001b[43merrors\u001b[49m\u001b[38;5;241;43m=\u001b[39;49m\u001b[43merrors\u001b[49m\u001b[43m,\u001b[49m\n\u001b[0;32m    878\u001b[0m \u001b[43m            \u001b[49m\u001b[43mnewline\u001b[49m\u001b[38;5;241;43m=\u001b[39;49m\u001b[38;5;124;43m\"\u001b[39;49m\u001b[38;5;124;43m\"\u001b[39;49m\u001b[43m,\u001b[49m\n\u001b[0;32m    879\u001b[0m \u001b[43m        \u001b[49m\u001b[43m)\u001b[49m\n\u001b[0;32m    880\u001b[0m     \u001b[38;5;28;01melse\u001b[39;00m:\n\u001b[0;32m    881\u001b[0m         \u001b[38;5;66;03m# Binary mode\u001b[39;00m\n\u001b[0;32m    882\u001b[0m         handle \u001b[38;5;241m=\u001b[39m \u001b[38;5;28mopen\u001b[39m(handle, ioargs\u001b[38;5;241m.\u001b[39mmode)\n",
      "\u001b[1;31mFileNotFoundError\u001b[0m: [Errno 2] No such file or directory: 'data/J(배).csv'"
     ]
    }
   ],
   "source": [
    "j = pd.read_csv('data/J(배).csv', header=0)\n",
    "j.head()"
   ]
  },
  {
   "cell_type": "code",
   "execution_count": 41,
   "metadata": {},
   "outputs": [],
   "source": [
    "j['date'] = pd.to_datetime(j['date'])\n",
    "j.set_index('date', inplace=True)"
   ]
  },
  {
   "cell_type": "code",
   "execution_count": 42,
   "metadata": {},
   "outputs": [],
   "source": [
    "# 결측치 처리\n",
    "j.loc[j['height1'] <= 1, 'height1'] = np.nan\n",
    "median_value = j['height1'].median()\n",
    "j['height1'] = j['height1'].fillna(median_value)"
   ]
  },
  {
   "cell_type": "code",
   "execution_count": 43,
   "metadata": {},
   "outputs": [],
   "source": [
    "j.loc[j['height2'] <= 1, 'height2'] = np.nan\n",
    "median_value = j['height2'].median()\n",
    "j['height2'] = j['height2'].fillna(median_value)"
   ]
  },
  {
   "cell_type": "code",
   "execution_count": 44,
   "metadata": {},
   "outputs": [],
   "source": [
    "j.loc[(j['in_flow'] > 800), 'in_flow'] = np.nan\n",
    "j['in_flow'] = j['in_flow'].interpolate(method='linear')"
   ]
  },
  {
   "cell_type": "code",
   "execution_count": 45,
   "metadata": {},
   "outputs": [],
   "source": [
    "j.loc[(j['in_flow'] < 0), 'in_flow'] = np.nan\n",
    "j['in_flow'] = j['in_flow'].ffill()"
   ]
  },
  {
   "cell_type": "code",
   "execution_count": 46,
   "metadata": {},
   "outputs": [],
   "source": [
    "j.loc[(j['out_flow'] > 800), 'out_flow'] = np.nan\n",
    "j['out_flow'] = j['out_flow'].interpolate(method='linear')"
   ]
  },
  {
   "cell_type": "code",
   "execution_count": 47,
   "metadata": {},
   "outputs": [],
   "source": [
    "j.loc[(j['out_flow'] < 0), 'out_flow'] = np.nan\n",
    "j['out_flow'] = j['out_flow'].ffill()"
   ]
  },
  {
   "cell_type": "code",
   "execution_count": 48,
   "metadata": {},
   "outputs": [
    {
     "data": {
      "text/html": [
       "<div>\n",
       "<style scoped>\n",
       "    .dataframe tbody tr th:only-of-type {\n",
       "        vertical-align: middle;\n",
       "    }\n",
       "\n",
       "    .dataframe tbody tr th {\n",
       "        vertical-align: top;\n",
       "    }\n",
       "\n",
       "    .dataframe thead th {\n",
       "        text-align: right;\n",
       "    }\n",
       "</style>\n",
       "<table border=\"1\" class=\"dataframe\">\n",
       "  <thead>\n",
       "    <tr style=\"text-align: right;\">\n",
       "      <th></th>\n",
       "      <th>height1</th>\n",
       "      <th>height2</th>\n",
       "      <th>in_valve1</th>\n",
       "      <th>in_valve2</th>\n",
       "      <th>in_flow</th>\n",
       "      <th>out_valve1</th>\n",
       "      <th>out_valve2</th>\n",
       "      <th>out_flow</th>\n",
       "    </tr>\n",
       "  </thead>\n",
       "  <tbody>\n",
       "    <tr>\n",
       "      <th>count</th>\n",
       "      <td>1684763.000</td>\n",
       "      <td>1684763.000</td>\n",
       "      <td>1684763.000</td>\n",
       "      <td>1684763.000</td>\n",
       "      <td>1684763.000</td>\n",
       "      <td>1684763.000</td>\n",
       "      <td>1684763.000</td>\n",
       "      <td>1684763.000</td>\n",
       "    </tr>\n",
       "    <tr>\n",
       "      <th>mean</th>\n",
       "      <td>3.045</td>\n",
       "      <td>3.038</td>\n",
       "      <td>7651.998</td>\n",
       "      <td>150.048</td>\n",
       "      <td>325.797</td>\n",
       "      <td>74.439</td>\n",
       "      <td>6594.258</td>\n",
       "      <td>304.027</td>\n",
       "    </tr>\n",
       "    <tr>\n",
       "      <th>std</th>\n",
       "      <td>0.382</td>\n",
       "      <td>0.383</td>\n",
       "      <td>874445.828</td>\n",
       "      <td>17147.015</td>\n",
       "      <td>115.984</td>\n",
       "      <td>8506.669</td>\n",
       "      <td>753570.709</td>\n",
       "      <td>98.428</td>\n",
       "    </tr>\n",
       "    <tr>\n",
       "      <th>min</th>\n",
       "      <td>1.001</td>\n",
       "      <td>1.001</td>\n",
       "      <td>0.000</td>\n",
       "      <td>0.000</td>\n",
       "      <td>0.000</td>\n",
       "      <td>0.000</td>\n",
       "      <td>0.000</td>\n",
       "      <td>0.000</td>\n",
       "    </tr>\n",
       "    <tr>\n",
       "      <th>25%</th>\n",
       "      <td>2.816</td>\n",
       "      <td>2.796</td>\n",
       "      <td>0.000</td>\n",
       "      <td>0.000</td>\n",
       "      <td>258.900</td>\n",
       "      <td>0.000</td>\n",
       "      <td>0.000</td>\n",
       "      <td>231.978</td>\n",
       "    </tr>\n",
       "    <tr>\n",
       "      <th>50%</th>\n",
       "      <td>3.071</td>\n",
       "      <td>3.062</td>\n",
       "      <td>0.000</td>\n",
       "      <td>0.000</td>\n",
       "      <td>300.000</td>\n",
       "      <td>0.000</td>\n",
       "      <td>0.000</td>\n",
       "      <td>308.722</td>\n",
       "    </tr>\n",
       "    <tr>\n",
       "      <th>75%</th>\n",
       "      <td>3.313</td>\n",
       "      <td>3.316</td>\n",
       "      <td>0.000</td>\n",
       "      <td>0.000</td>\n",
       "      <td>366.100</td>\n",
       "      <td>0.000</td>\n",
       "      <td>0.000</td>\n",
       "      <td>369.000</td>\n",
       "    </tr>\n",
       "    <tr>\n",
       "      <th>max</th>\n",
       "      <td>4.019</td>\n",
       "      <td>4.069</td>\n",
       "      <td>99936460.000</td>\n",
       "      <td>1959678.000</td>\n",
       "      <td>800.000</td>\n",
       "      <td>972199.000</td>\n",
       "      <td>86124350.000</td>\n",
       "      <td>722.570</td>\n",
       "    </tr>\n",
       "  </tbody>\n",
       "</table>\n",
       "</div>"
      ],
      "text/plain": [
       "          height1     height2    in_valve1   in_valve2     in_flow  \\\n",
       "count 1684763.000 1684763.000  1684763.000 1684763.000 1684763.000   \n",
       "mean        3.045       3.038     7651.998     150.048     325.797   \n",
       "std         0.382       0.383   874445.828   17147.015     115.984   \n",
       "min         1.001       1.001        0.000       0.000       0.000   \n",
       "25%         2.816       2.796        0.000       0.000     258.900   \n",
       "50%         3.071       3.062        0.000       0.000     300.000   \n",
       "75%         3.313       3.316        0.000       0.000     366.100   \n",
       "max         4.019       4.069 99936460.000 1959678.000     800.000   \n",
       "\n",
       "       out_valve1   out_valve2    out_flow  \n",
       "count 1684763.000  1684763.000 1684763.000  \n",
       "mean       74.439     6594.258     304.027  \n",
       "std      8506.669   753570.709      98.428  \n",
       "min         0.000        0.000       0.000  \n",
       "25%         0.000        0.000     231.978  \n",
       "50%         0.000        0.000     308.722  \n",
       "75%         0.000        0.000     369.000  \n",
       "max    972199.000 86124350.000     722.570  "
      ]
     },
     "execution_count": 48,
     "metadata": {},
     "output_type": "execute_result"
    }
   ],
   "source": [
    "j.describe()"
   ]
  },
  {
   "cell_type": "code",
   "execution_count": 49,
   "metadata": {},
   "outputs": [
    {
     "data": {
      "text/html": [
       "<div>\n",
       "<style scoped>\n",
       "    .dataframe tbody tr th:only-of-type {\n",
       "        vertical-align: middle;\n",
       "    }\n",
       "\n",
       "    .dataframe tbody tr th {\n",
       "        vertical-align: top;\n",
       "    }\n",
       "\n",
       "    .dataframe thead th {\n",
       "        text-align: right;\n",
       "    }\n",
       "</style>\n",
       "<table border=\"1\" class=\"dataframe\">\n",
       "  <thead>\n",
       "    <tr style=\"text-align: right;\">\n",
       "      <th></th>\n",
       "      <th>height1</th>\n",
       "      <th>height2</th>\n",
       "      <th>in_valve1</th>\n",
       "      <th>in_valve2</th>\n",
       "      <th>in_flow</th>\n",
       "      <th>out_valve1</th>\n",
       "      <th>out_valve2</th>\n",
       "      <th>out_flow</th>\n",
       "    </tr>\n",
       "    <tr>\n",
       "      <th>date</th>\n",
       "      <th></th>\n",
       "      <th></th>\n",
       "      <th></th>\n",
       "      <th></th>\n",
       "      <th></th>\n",
       "      <th></th>\n",
       "      <th></th>\n",
       "      <th></th>\n",
       "    </tr>\n",
       "  </thead>\n",
       "  <tbody>\n",
       "    <tr>\n",
       "      <th>2019-10-18 19:00:00</th>\n",
       "      <td>2.278</td>\n",
       "      <td>2.325</td>\n",
       "      <td>0.000</td>\n",
       "      <td>0.000</td>\n",
       "      <td>135.767</td>\n",
       "      <td>0.000</td>\n",
       "      <td>0.000</td>\n",
       "      <td>444.767</td>\n",
       "    </tr>\n",
       "    <tr>\n",
       "      <th>2019-10-18 20:00:00</th>\n",
       "      <td>2.325</td>\n",
       "      <td>2.368</td>\n",
       "      <td>0.000</td>\n",
       "      <td>0.000</td>\n",
       "      <td>451.579</td>\n",
       "      <td>0.000</td>\n",
       "      <td>0.000</td>\n",
       "      <td>352.897</td>\n",
       "    </tr>\n",
       "    <tr>\n",
       "      <th>2019-10-18 21:00:00</th>\n",
       "      <td>2.387</td>\n",
       "      <td>2.424</td>\n",
       "      <td>0.000</td>\n",
       "      <td>0.000</td>\n",
       "      <td>285.715</td>\n",
       "      <td>0.000</td>\n",
       "      <td>0.000</td>\n",
       "      <td>426.186</td>\n",
       "    </tr>\n",
       "    <tr>\n",
       "      <th>2019-10-18 22:00:00</th>\n",
       "      <td>2.389</td>\n",
       "      <td>2.421</td>\n",
       "      <td>0.000</td>\n",
       "      <td>0.000</td>\n",
       "      <td>269.691</td>\n",
       "      <td>0.000</td>\n",
       "      <td>0.000</td>\n",
       "      <td>336.389</td>\n",
       "    </tr>\n",
       "    <tr>\n",
       "      <th>2019-10-18 23:00:00</th>\n",
       "      <td>2.376</td>\n",
       "      <td>2.408</td>\n",
       "      <td>0.000</td>\n",
       "      <td>0.000</td>\n",
       "      <td>175.643</td>\n",
       "      <td>0.000</td>\n",
       "      <td>0.000</td>\n",
       "      <td>320.777</td>\n",
       "    </tr>\n",
       "  </tbody>\n",
       "</table>\n",
       "</div>"
      ],
      "text/plain": [
       "                     height1  height2  in_valve1  in_valve2  in_flow  \\\n",
       "date                                                                   \n",
       "2019-10-18 19:00:00    2.278    2.325      0.000      0.000  135.767   \n",
       "2019-10-18 20:00:00    2.325    2.368      0.000      0.000  451.579   \n",
       "2019-10-18 21:00:00    2.387    2.424      0.000      0.000  285.715   \n",
       "2019-10-18 22:00:00    2.389    2.421      0.000      0.000  269.691   \n",
       "2019-10-18 23:00:00    2.376    2.408      0.000      0.000  175.643   \n",
       "\n",
       "                     out_valve1  out_valve2  out_flow  \n",
       "date                                                   \n",
       "2019-10-18 19:00:00       0.000       0.000   444.767  \n",
       "2019-10-18 20:00:00       0.000       0.000   352.897  \n",
       "2019-10-18 21:00:00       0.000       0.000   426.186  \n",
       "2019-10-18 22:00:00       0.000       0.000   336.389  \n",
       "2019-10-18 23:00:00       0.000       0.000   320.777  "
      ]
     },
     "execution_count": 49,
     "metadata": {},
     "output_type": "execute_result"
    }
   ],
   "source": [
    "j = j.resample('h').mean()\n",
    "j.head()"
   ]
  },
  {
   "cell_type": "code",
   "execution_count": 50,
   "metadata": {},
   "outputs": [
    {
     "data": {
      "text/html": [
       "<div>\n",
       "<style scoped>\n",
       "    .dataframe tbody tr th:only-of-type {\n",
       "        vertical-align: middle;\n",
       "    }\n",
       "\n",
       "    .dataframe tbody tr th {\n",
       "        vertical-align: top;\n",
       "    }\n",
       "\n",
       "    .dataframe thead th {\n",
       "        text-align: right;\n",
       "    }\n",
       "</style>\n",
       "<table border=\"1\" class=\"dataframe\">\n",
       "  <thead>\n",
       "    <tr style=\"text-align: right;\">\n",
       "      <th></th>\n",
       "      <th>height1</th>\n",
       "      <th>height2</th>\n",
       "      <th>in_valve1</th>\n",
       "      <th>in_valve2</th>\n",
       "      <th>in_flow</th>\n",
       "      <th>out_valve1</th>\n",
       "      <th>out_valve2</th>\n",
       "      <th>out_flow</th>\n",
       "    </tr>\n",
       "    <tr>\n",
       "      <th>date</th>\n",
       "      <th></th>\n",
       "      <th></th>\n",
       "      <th></th>\n",
       "      <th></th>\n",
       "      <th></th>\n",
       "      <th></th>\n",
       "      <th></th>\n",
       "      <th></th>\n",
       "    </tr>\n",
       "  </thead>\n",
       "  <tbody>\n",
       "    <tr>\n",
       "      <th>2019-10-18 20:00:00</th>\n",
       "      <td>2.325</td>\n",
       "      <td>2.368</td>\n",
       "      <td>0.000</td>\n",
       "      <td>0.000</td>\n",
       "      <td>451.579</td>\n",
       "      <td>0.000</td>\n",
       "      <td>0.000</td>\n",
       "      <td>352.897</td>\n",
       "    </tr>\n",
       "    <tr>\n",
       "      <th>2019-10-18 21:00:00</th>\n",
       "      <td>2.387</td>\n",
       "      <td>2.424</td>\n",
       "      <td>0.000</td>\n",
       "      <td>0.000</td>\n",
       "      <td>285.715</td>\n",
       "      <td>0.000</td>\n",
       "      <td>0.000</td>\n",
       "      <td>426.186</td>\n",
       "    </tr>\n",
       "    <tr>\n",
       "      <th>2019-10-18 22:00:00</th>\n",
       "      <td>2.389</td>\n",
       "      <td>2.421</td>\n",
       "      <td>0.000</td>\n",
       "      <td>0.000</td>\n",
       "      <td>269.691</td>\n",
       "      <td>0.000</td>\n",
       "      <td>0.000</td>\n",
       "      <td>336.389</td>\n",
       "    </tr>\n",
       "    <tr>\n",
       "      <th>2019-10-18 23:00:00</th>\n",
       "      <td>2.376</td>\n",
       "      <td>2.408</td>\n",
       "      <td>0.000</td>\n",
       "      <td>0.000</td>\n",
       "      <td>175.643</td>\n",
       "      <td>0.000</td>\n",
       "      <td>0.000</td>\n",
       "      <td>320.777</td>\n",
       "    </tr>\n",
       "    <tr>\n",
       "      <th>2019-10-19 00:00:00</th>\n",
       "      <td>2.416</td>\n",
       "      <td>2.464</td>\n",
       "      <td>0.000</td>\n",
       "      <td>0.000</td>\n",
       "      <td>381.217</td>\n",
       "      <td>0.000</td>\n",
       "      <td>0.000</td>\n",
       "      <td>293.171</td>\n",
       "    </tr>\n",
       "    <tr>\n",
       "      <th>...</th>\n",
       "      <td>...</td>\n",
       "      <td>...</td>\n",
       "      <td>...</td>\n",
       "      <td>...</td>\n",
       "      <td>...</td>\n",
       "      <td>...</td>\n",
       "      <td>...</td>\n",
       "      <td>...</td>\n",
       "    </tr>\n",
       "    <tr>\n",
       "      <th>2022-06-30 19:00:00</th>\n",
       "      <td>3.129</td>\n",
       "      <td>3.114</td>\n",
       "      <td>0.000</td>\n",
       "      <td>0.000</td>\n",
       "      <td>245.008</td>\n",
       "      <td>0.000</td>\n",
       "      <td>0.000</td>\n",
       "      <td>406.098</td>\n",
       "    </tr>\n",
       "    <tr>\n",
       "      <th>2022-06-30 20:00:00</th>\n",
       "      <td>2.987</td>\n",
       "      <td>2.977</td>\n",
       "      <td>0.000</td>\n",
       "      <td>0.000</td>\n",
       "      <td>244.290</td>\n",
       "      <td>0.000</td>\n",
       "      <td>0.000</td>\n",
       "      <td>434.142</td>\n",
       "    </tr>\n",
       "    <tr>\n",
       "      <th>2022-06-30 21:00:00</th>\n",
       "      <td>2.836</td>\n",
       "      <td>2.830</td>\n",
       "      <td>0.000</td>\n",
       "      <td>0.000</td>\n",
       "      <td>245.970</td>\n",
       "      <td>0.000</td>\n",
       "      <td>0.000</td>\n",
       "      <td>428.195</td>\n",
       "    </tr>\n",
       "    <tr>\n",
       "      <th>2022-06-30 22:00:00</th>\n",
       "      <td>2.757</td>\n",
       "      <td>2.738</td>\n",
       "      <td>0.000</td>\n",
       "      <td>0.000</td>\n",
       "      <td>373.693</td>\n",
       "      <td>0.000</td>\n",
       "      <td>0.000</td>\n",
       "      <td>364.893</td>\n",
       "    </tr>\n",
       "    <tr>\n",
       "      <th>2022-06-30 23:00:00</th>\n",
       "      <td>2.793</td>\n",
       "      <td>2.759</td>\n",
       "      <td>0.000</td>\n",
       "      <td>0.000</td>\n",
       "      <td>418.842</td>\n",
       "      <td>0.000</td>\n",
       "      <td>0.000</td>\n",
       "      <td>312.119</td>\n",
       "    </tr>\n",
       "  </tbody>\n",
       "</table>\n",
       "<p>23668 rows × 8 columns</p>\n",
       "</div>"
      ],
      "text/plain": [
       "                     height1  height2  in_valve1  in_valve2  in_flow  \\\n",
       "date                                                                   \n",
       "2019-10-18 20:00:00    2.325    2.368      0.000      0.000  451.579   \n",
       "2019-10-18 21:00:00    2.387    2.424      0.000      0.000  285.715   \n",
       "2019-10-18 22:00:00    2.389    2.421      0.000      0.000  269.691   \n",
       "2019-10-18 23:00:00    2.376    2.408      0.000      0.000  175.643   \n",
       "2019-10-19 00:00:00    2.416    2.464      0.000      0.000  381.217   \n",
       "...                      ...      ...        ...        ...      ...   \n",
       "2022-06-30 19:00:00    3.129    3.114      0.000      0.000  245.008   \n",
       "2022-06-30 20:00:00    2.987    2.977      0.000      0.000  244.290   \n",
       "2022-06-30 21:00:00    2.836    2.830      0.000      0.000  245.970   \n",
       "2022-06-30 22:00:00    2.757    2.738      0.000      0.000  373.693   \n",
       "2022-06-30 23:00:00    2.793    2.759      0.000      0.000  418.842   \n",
       "\n",
       "                     out_valve1  out_valve2  out_flow  \n",
       "date                                                   \n",
       "2019-10-18 20:00:00       0.000       0.000   352.897  \n",
       "2019-10-18 21:00:00       0.000       0.000   426.186  \n",
       "2019-10-18 22:00:00       0.000       0.000   336.389  \n",
       "2019-10-18 23:00:00       0.000       0.000   320.777  \n",
       "2019-10-19 00:00:00       0.000       0.000   293.171  \n",
       "...                         ...         ...       ...  \n",
       "2022-06-30 19:00:00       0.000       0.000   406.098  \n",
       "2022-06-30 20:00:00       0.000       0.000   434.142  \n",
       "2022-06-30 21:00:00       0.000       0.000   428.195  \n",
       "2022-06-30 22:00:00       0.000       0.000   364.893  \n",
       "2022-06-30 23:00:00       0.000       0.000   312.119  \n",
       "\n",
       "[23668 rows x 8 columns]"
      ]
     },
     "execution_count": 50,
     "metadata": {},
     "output_type": "execute_result"
    }
   ],
   "source": [
    "start_date = pd.Timestamp('2019-10-18 20:00:00')\n",
    "end_date = pd.Timestamp('2022-06-30 23:59:00')\n",
    "sample_df = j[(j.index >= start_date) & (j.index <= end_date)]\n",
    "sample_df"
   ]
  },
  {
   "cell_type": "code",
   "execution_count": 51,
   "metadata": {},
   "outputs": [],
   "source": [
    "# 훈련, 검증, 테스트 세트로 나누기\n",
    "train_start = start_date\n",
    "train_end = pd.Timestamp('2021-08-31 23:00:00')\n",
    "val_start = pd.Timestamp('2021-09-01 00:00:00')\n",
    "val_end = pd.Timestamp('2022-01-31 23:00:00')\n",
    "test_start = pd.Timestamp('2022-02-01 00:00:00')\n",
    "test_end = end_date"
   ]
  },
  {
   "cell_type": "code",
   "execution_count": 52,
   "metadata": {},
   "outputs": [],
   "source": [
    "train_set = sample_df.loc[train_start:train_end]\n",
    "val_set = sample_df.loc[val_start:val_end]\n",
    "test_set = sample_df.loc[test_start:test_end]"
   ]
  },
  {
   "cell_type": "code",
   "execution_count": 53,
   "metadata": {},
   "outputs": [],
   "source": [
    "features = ['height1', 'height2', 'in_flow']\n",
    "target = 'out_flow'"
   ]
  },
  {
   "cell_type": "code",
   "execution_count": 54,
   "metadata": {},
   "outputs": [],
   "source": [
    "train_features = train_set[features]\n",
    "train_target = train_set[[target]]\n",
    "val_features = val_set[features]\n",
    "val_target = val_set[[target]]\n",
    "test_features = test_set[features]\n",
    "test_target = test_set[[target]]"
   ]
  },
  {
   "cell_type": "code",
   "execution_count": 55,
   "metadata": {},
   "outputs": [],
   "source": [
    "ft_scaler = MinMaxScaler()\n",
    "tg_scaler = MinMaxScaler()"
   ]
  },
  {
   "cell_type": "code",
   "execution_count": 56,
   "metadata": {},
   "outputs": [
    {
     "name": "stdout",
     "output_type": "stream",
     "text": [
      "train_features의 shape (16396, 3)\n",
      "train_target의 shape (16396, 1)\n",
      "val_features의 shape (3672, 3)\n",
      "val_target의 shape (3672, 1)\n",
      "test_features의 shape (3600, 3)\n",
      "test_target의 shape (3600, 1)\n"
     ]
    }
   ],
   "source": [
    "scaled_train_features = ft_scaler.fit_transform(train_features)\n",
    "scaled_train_target = tg_scaler.fit_transform(train_target)\n",
    "scaled_val_features = ft_scaler.transform(val_features)\n",
    "scaled_val_target = tg_scaler.transform(val_target)\n",
    "scaled_test_features = ft_scaler.transform(test_features)\n",
    "scaled_test_target = tg_scaler.transform(test_target)\n",
    "\n",
    "print(f'train_features의 shape', train_features.shape)\n",
    "print(f'train_target의 shape', train_target.shape)\n",
    "print(f'val_features의 shape', val_features.shape)\n",
    "print(f'val_target의 shape', val_target.shape)\n",
    "print(f'test_features의 shape', test_features.shape)\n",
    "print(f'test_target의 shape', test_target.shape)"
   ]
  },
  {
   "cell_type": "code",
   "execution_count": 57,
   "metadata": {},
   "outputs": [],
   "source": [
    "# 시퀀스 생성 함수\n",
    "def create_sequences(features, target, input_seq_length, output_seq_length):\n",
    "    xs, ys = [], []\n",
    "    for i in range(len(features) - input_seq_length - output_seq_length + 1):\n",
    "        x = features[i:i+input_seq_length]\n",
    "        y = target[i+input_seq_length:i+input_seq_length+output_seq_length]\n",
    "        xs.append(x)\n",
    "        ys.append(y)\n",
    "    return np.array(xs), np.array(ys)\n",
    "\n",
    "input_seq_length = 48\n",
    "output_seq_length = 24"
   ]
  },
  {
   "cell_type": "code",
   "execution_count": 58,
   "metadata": {},
   "outputs": [
    {
     "name": "stdout",
     "output_type": "stream",
     "text": [
      "X_train : (16325, 48, 3)\n",
      "y_train : (16325, 24, 1)\n",
      "X_val : (3601, 48, 3)\n",
      "y_val : (3601, 24, 1)\n",
      "X_test : (16325, 48, 3)\n",
      "y_test : (3529, 24, 1)\n"
     ]
    }
   ],
   "source": [
    "X_train, y_train = create_sequences(scaled_train_features, scaled_train_target, input_seq_length, output_seq_length)\n",
    "X_val, y_val = create_sequences(scaled_val_features, scaled_val_target, input_seq_length, output_seq_length)\n",
    "X_test, y_test = create_sequences(scaled_test_features, scaled_test_target, input_seq_length, output_seq_length)\n",
    "\n",
    "print(f'X_train : {X_train.shape}')\n",
    "print(f'y_train : {y_train.shape}')\n",
    "print(f'X_val : {X_val.shape}')\n",
    "print(f'y_val : {y_val.shape}')\n",
    "print(f'X_test : {X_train.shape}')\n",
    "print(f'y_test : {y_test.shape}')"
   ]
  },
  {
   "cell_type": "code",
   "execution_count": 59,
   "metadata": {},
   "outputs": [],
   "source": [
    "X_train = torch.tensor(X_train, dtype=torch.float32)\n",
    "y_train = torch.tensor(y_train, dtype=torch.float32)\n",
    "X_val = torch.tensor(X_val, dtype=torch.float32)\n",
    "y_val = torch.tensor(y_val, dtype=torch.float32)\n",
    "X_test = torch.tensor(X_test, dtype=torch.float32)\n",
    "y_test = torch.tensor(y_test, dtype=torch.float32)"
   ]
  },
  {
   "cell_type": "code",
   "execution_count": 60,
   "metadata": {},
   "outputs": [],
   "source": [
    "class LSTMModel(nn.Module):\n",
    "    def __init__(self, input_size, hidden_size, num_layers, output_size):\n",
    "        super(LSTMModel, self).__init__()\n",
    "        self.hidden_size = hidden_size\n",
    "        self.num_layers = num_layers\n",
    "        self.lstm = nn.LSTM(input_size, hidden_size, num_layers, batch_first=True)\n",
    "        self.fc = nn.Linear(hidden_size, output_size)\n",
    "\n",
    "    def forward(self, x):\n",
    "        h0 = torch.zeros(self.num_layers, x.size(0), self.hidden_size).to(x.device)\n",
    "        c0 = torch.zeros(self.num_layers, x.size(0), self.hidden_size).to(x.device)\n",
    "        out, _ = self.lstm(x, (h0, c0))\n",
    "        out = self.fc(out[:, -1, :])\n",
    "        return out\n",
    "\n",
    "input_size = 3\n",
    "num_layers = 3\n",
    "hidden_size = 64\n",
    "output_size = output_seq_length"
   ]
  },
  {
   "cell_type": "code",
   "execution_count": 61,
   "metadata": {},
   "outputs": [
    {
     "name": "stdout",
     "output_type": "stream",
     "text": [
      "cuda\n"
     ]
    }
   ],
   "source": [
    "device = torch.device('cuda' if torch.cuda.is_available() else 'cpu')\n",
    "print(device)"
   ]
  },
  {
   "cell_type": "code",
   "execution_count": 62,
   "metadata": {},
   "outputs": [],
   "source": [
    "model = LSTMModel(input_size, hidden_size, num_layers, output_size).to(device)\n",
    "loss_fn = torch.nn.MSELoss(reduction='mean')\n",
    "optimizer = optim.Adam(model.parameters(), lr=0.005)"
   ]
  },
  {
   "cell_type": "code",
   "execution_count": 63,
   "metadata": {},
   "outputs": [],
   "source": [
    "batch_size = 64\n",
    "train_dataset = TensorDataset(X_train, y_train)\n",
    "train_loader = DataLoader(train_dataset, batch_size=batch_size, shuffle=True)\n",
    "val_dataset = TensorDataset(X_val, y_val)\n",
    "val_loader = DataLoader(val_dataset, batch_size=batch_size, shuffle=False)\n",
    "test_dataset = TensorDataset(X_test, y_test)\n",
    "test_loader = DataLoader(test_dataset, batch_size=batch_size, shuffle=False)"
   ]
  },
  {
   "cell_type": "code",
   "execution_count": 64,
   "metadata": {},
   "outputs": [
    {
     "name": "stdout",
     "output_type": "stream",
     "text": [
      "Epoch [10/50] - Training Loss: 0.0081, Validation Loss: 0.0084\n",
      "Epoch [20/50] - Training Loss: 0.0078, Validation Loss: 0.0081\n",
      "Epoch [30/50] - Training Loss: 0.0061, Validation Loss: 0.0080\n",
      "Epoch [40/50] - Training Loss: 0.0043, Validation Loss: 0.0082\n",
      "\n",
      "Early Stopping\n"
     ]
    }
   ],
   "source": [
    "num_epochs = 50\n",
    "patience = 10\n",
    "verbose = 10\n",
    "\n",
    "train_hist = []\n",
    "val_hist = []\n",
    "\n",
    "for epoch in range(num_epochs):\n",
    "    total_train_loss = 0.0\n",
    "    total_val_loss = 0.0\n",
    "\n",
    "    model.train()\n",
    "    for batch_X, batch_y in train_loader:\n",
    "        batch_X, batch_y = batch_X.to(device), batch_y.to(device)\n",
    "        batch_y = batch_y.squeeze(-1) # 마지막 차원을 제거\n",
    "        predictions = model(batch_X)\n",
    "        loss = loss_fn(predictions, batch_y)\n",
    "\n",
    "        optimizer.zero_grad()\n",
    "        loss.backward()\n",
    "        optimizer.step()\n",
    "\n",
    "        total_train_loss += loss.item()\n",
    "\n",
    "    model.eval()\n",
    "    with torch.no_grad():\n",
    "        for batch_X_val, batch_y_val in val_loader:\n",
    "            batch_X_val, batch_y_val = batch_X_val.to(device), batch_y_val.to(device)\n",
    "            batch_y_val = batch_y_val.squeeze(-1)\n",
    "            predictions_val = model(batch_X_val)\n",
    "            val_loss = loss_fn(predictions_val, batch_y_val)\n",
    "            total_val_loss += val_loss.item()\n",
    "\n",
    "    average_train_loss = total_train_loss / len(train_loader)\n",
    "    average_val_loss = total_val_loss / len(val_loader)\n",
    "\n",
    "    train_hist.append(average_train_loss)\n",
    "    val_hist.append(average_val_loss)\n",
    "\n",
    "    if (epoch + 1) % verbose == 0:\n",
    "        print(f'Epoch [{epoch+1}/{num_epochs}] - Training Loss: {average_train_loss:.4f}, Validation Loss: {average_val_loss:.4f}')\n",
    "\n",
    "    if (epoch + 1) % patience == 0 and epoch + 1 != 0:\n",
    "        if val_hist[-patience] < average_val_loss:\n",
    "            print('\\nEarly Stopping')\n",
    "            break"
   ]
  },
  {
   "cell_type": "code",
   "execution_count": 65,
   "metadata": {},
   "outputs": [
    {
     "data": {
      "image/png": "[encoded data removed]",
      "text/plain": [
       "<Figure size 1000x500 with 1 Axes>"
      ]
     },
     "metadata": {},
     "output_type": "display_data"
    }
   ],
   "source": [
    "plt.figure(figsize=(10, 5))\n",
    "plt.plot(train_hist, label='Training Loss')\n",
    "plt.plot(val_hist, label='Validation Loss')\n",
    "plt.xlabel('Epochs')\n",
    "plt.ylabel('Loss')\n",
    "plt.legend()\n",
    "plt.show()"
   ]
  },
  {
   "cell_type": "code",
   "execution_count": 66,
   "metadata": {},
   "outputs": [],
   "source": [
    "model.eval()\n",
    "preds = []\n",
    "\n",
    "with torch.no_grad():\n",
    "    for batch_X_test, _ in test_loader:\n",
    "        batch_X_test = batch_X_test.to(device)\n",
    "        predictions_test = model(batch_X_test)\n",
    "        preds.append(predictions_test.cpu().numpy())\n",
    "\n",
    "preds = np.concatenate(preds, axis=0)"
   ]
  },
  {
   "cell_type": "code",
   "execution_count": 67,
   "metadata": {},
   "outputs": [],
   "source": [
    "# 역변환하여 실제 값으로 변환\n",
    "actual = tg_scaler.inverse_transform(y_test.cpu().numpy().reshape(-1, output_seq_length))\n",
    "predicted = tg_scaler.inverse_transform(preds.reshape(-1, output_seq_length))"
   ]
  },
  {
   "cell_type": "code",
   "execution_count": 73,
   "metadata": {},
   "outputs": [
    {
     "name": "stdout",
     "output_type": "stream",
     "text": [
      "Length of dates: 3529\n",
      "Length of actual: 84696\n",
      "Length of predicted: 84696\n",
      "<bound method DataFrame.count of             Date  Actual  Predicted\n",
      "0     2022-02-03 196.072    200.339\n",
      "1     2022-02-03 184.871    177.258\n",
      "2     2022-02-03 138.798    154.866\n",
      "3     2022-02-03 131.191    131.417\n",
      "4     2022-02-03 133.122    132.007\n",
      "...          ...     ...        ...\n",
      "84691 2022-06-30 406.098    344.260\n",
      "84692 2022-06-30 434.142    341.536\n",
      "84693 2022-06-30 428.195    370.728\n",
      "84694 2022-06-30 364.893    391.866\n",
      "84695 2022-06-30 312.118    364.881\n",
      "\n",
      "[84696 rows x 3 columns]>\n"
     ]
    }
   ],
   "source": [
    "# 테스트 구간의 날짜를 가져오기\n",
    "dates = test_set.index[input_seq_length:-(output_seq_length-1)]\n",
    "\n",
    "# 예측 및 실제 값의 길이를 확인\n",
    "print(f'Length of dates: {len(dates)}')\n",
    "print(f'Length of actual: {len(actual.flatten())}')\n",
    "print(f'Length of predicted: {len(predicted.flatten())}')\n",
    "\n",
    "# 비교 데이터프레임 생성\n",
    "comparison_df = pd.DataFrame({\n",
    "    'Date': np.repeat(dates, output_seq_length),\n",
    "    'Actual': actual.flatten(),\n",
    "    'Predicted': predicted.flatten()\n",
    "})\n",
    "\n",
    "print(comparison_df)"
   ]
  },
  {
   "cell_type": "code",
   "execution_count": 69,
   "metadata": {},
   "outputs": [
    {
     "name": "stdout",
     "output_type": "stream",
     "text": [
      "LSTM RMSE: 48.2155\n"
     ]
    }
   ],
   "source": [
    "rmse = np.sqrt(mean_squared_error(actual, predicted))\n",
    "print(f'LSTM RMSE: {rmse:.4f}')"
   ]
  },
  {
   "cell_type": "code",
   "execution_count": 70,
   "metadata": {},
   "outputs": [
    {
     "data": {
      "image/png": "[encoded data removed]",
      "text/plain": [
       "<Figure size 1200x600 with 1 Axes>"
      ]
     },
     "metadata": {},
     "output_type": "display_data"
    }
   ],
   "source": [
    "plt.figure(figsize=(12, 6))\n",
    "\n",
    "# flatten된 시퀀스를 사용하여 길이를 맞추기\n",
    "actual_flatten = actual.flatten()[:len(predicted.flatten())]\n",
    "\n",
    "# 실제값과 예측값을 한 번씩만 플로팅\n",
    "plt.plot(actual_flatten, label='Actual', color='blue')\n",
    "plt.plot(predicted.flatten(), label='Predicted', color='orange')\n",
    "\n",
    "plt.legend()\n",
    "plt.show()\n",
    "\n",
    "# plt.figure(figsize=(12, 6))\n",
    "# plt.plot(actual, label='Actual', color='blue')\n",
    "# plt.plot(predicted, label='Predicted', color='orange')\n",
    "# plt.legend()\n",
    "# plt.show()"
   ]
  },
  {
   "cell_type": "code",
   "execution_count": 71,
   "metadata": {},
   "outputs": [],
   "source": [
    "# PATH = \"LSTM_24.pth\"\n",
    "# torch.save(model, PATH)\n",
    "# print(f\"Model saved to {PATH}\")"
   ]
  },
  {
   "cell_type": "code",
   "execution_count": 72,
   "metadata": {},
   "outputs": [],
   "source": [
    "# joblib.dump(ft_scaler, 'ft24_scaler.pkl')\n",
    "# joblib.dump(tg_scaler, 'tg24_scaler.pkl')"
   ]
  }
 ],
 "metadata": {
  "kernelspec": {
   "display_name": "py3_11",
   "language": "python",
   "name": "python3"
  },
  "language_info": {
   "codemirror_mode": {
    "name": "ipython",
    "version": 3
   },
   "file_extension": ".py",
   "mimetype": "text/x-python",
   "name": "python",
   "nbconvert_exporter": "python",
   "pygments_lexer": "ipython3",
   "version": "3.11.9"
  }
 },
 "nbformat": 4,
 "nbformat_minor": 2
}
